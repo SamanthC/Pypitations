{
 "cells": [
  {
   "cell_type": "markdown",
   "id": "06f3e263",
   "metadata": {},
   "source": [
    "Objectif: Classification des ECG HeartBeat\n",
    "5 classes (NSVFQ) --> AAMI EC57 standard MIT-BIH\n",
    "Prédiction MI sur classes non définis PTB"
   ]
  },
  {
   "cell_type": "markdown",
   "id": "f98151f6",
   "metadata": {},
   "source": [
    "2 collections (datasets) d'ECG sont à notre disposition :\n",
    "Tous les signaux sont déjà normalisé et sur 187 colonnes (~1500ms)\n",
    "Les ECG sont sur 1,2 période (battement de coeur) en démarrant sur un peak (R)\n",
    "Si 1,2T inférieur à 1500ms, le reste des colonnes est à 0"
   ]
  },
  {
   "cell_type": "markdown",
   "id": "eb9f28c7",
   "metadata": {},
   "source": [
    "The MIT-BIH Arrhythmia :\n",
    "Il est le fruit du travail depuis 1975 entre le laboratoire du Boston's Beth Israël Hospital (BIT), devenu le Beth Israel Medical Center, et le MIT pour la recherche et l'analyse de l'arythmie cardiaque.\n",
    "\n",
    "Cette base de données a défini le standard pour le test de matériel médical.\n",
    "\n",
    "Source thèse \n",
    "La base de données MIT-BIH a été créée par le MIT et “Boston Beth Israel Hospital”.\n",
    "Les signaux sont classées en dix catégories pathologiques (arythmie, fibrillation auriculaire..), une bonne partie de ces données est requise par la norme ANSI pour tester les appareils ambulatoires d’enregistrements et de mesures des ECG.\n",
    "La catégorie MIT-BIH Arrhythmia est la plus utilisée.\n",
    "Elle contient pour 47 sujets, 48 demi-heures d’enregistrements de signaux ECG qui sont annotées manuellement par des experts (fréquence d’échantillonnage : 360Hz, résolution : 11 bits sur une plage de 10 mV). Certains de ces ECG (n° : 100 et 107) contiennent des pics R bien identifiées et d’autres informations physiologiques trés intéressantes, d’autres contiennent des complexes QRS difficiles à détecter et des formes anormales, du bruit et des artéfacts (ECG n° : 108 et 207)."
   ]
  },
  {
   "cell_type": "markdown",
   "id": "d58765e6",
   "metadata": {},
   "source": [
    "Catégorisation des ECG suivant le résultat d'analyse visuelle et d'annotation par au moins de cardiologistes selon 5 types :\n",
    "\n",
    "Classification NSVFQ --> Classifier Arrhythmia\n",
    "\n",
    "Classe N :\n",
    "• Normal\n",
    "• Left/Right bundle branch block\n",
    "• Atrial escape\n",
    "• Nodal escape\n",
    "\n",
    "Classe S :\n",
    "• Atrial premature\n",
    "• Aberrant atrial premature\n",
    "• Nodal premature\n",
    "• Supra-ventricular premature\n",
    "\n",
    "Classe V :\n",
    "• Premature ventricular contraction\n",
    "• Ventricular escape\n",
    "\n",
    "Classe F :\n",
    "• Fusion of ventricular and normal\n",
    "\n",
    "Classe Q\n",
    "• Paced\n",
    "• Fusion of paced and normal\n",
    "• Unclassifiable\n",
    "\n",
    "Arrhythmia detection!\n"
   ]
  },
  {
   "cell_type": "raw",
   "id": "60e256a3",
   "metadata": {},
   "source": [
    "# Arrhythmia Dataset avec 5 diagnostics\n",
    "# Number of Samples: 109446\n",
    "# Number of Categories: 5\n",
    "# Sampling Frequency: 125Hz\n",
    "# Data Source: Physionet's MIT-BIH Arrhythmia Dataset\n",
    "# Classes: ['N': 0, 'S': 1, 'V': 2, 'F': 3, 'Q': 4]\n",
    "\n",
    "dftrain=pd.read_csv('mitbih_train.csv', header=None) # Arrhythmia Dataset training 87554 samples\n",
    "dftest=pd.read_csv('mitbih_test.csv', header=None)   # Arrhythmia Dataset set 21892 samples"
   ]
  },
  {
   "cell_type": "markdown",
   "id": "70bfdff1",
   "metadata": {},
   "source": [
    "PTB Diagnostic ECG Database :\n",
    "Contient les enregistrements de 290 sujets diagnostiqués comme suit :\n",
    "14552 ECG dont :\n",
    "4046 sains column187=0\n",
    "10506 avec pathologie column187=1 MI Myocardal Infraction (infractus du myocarde)\n",
    "\n",
    "MI => L'infarctus du myocarde est la destruction d'une zone plus ou moins étendue du muscle cardiaque. Il est la conséquence de l'obstruction d'une artère coronaire. \n",
    "L'infarctus du myocarde appelé aussi « crise cardiaque », est la destruction d'une partie plus ou moins importante du myocarde. Il fait suite à l'obstruction d'une artère coronaire.\n",
    "\n",
    "MI Classification --> Prédictions"
   ]
  },
  {
   "cell_type": "raw",
   "id": "986af919",
   "metadata": {},
   "source": [
    "# The PTB Diagnostic ECG Database avec 2 catégories sains/avec pathologie\n",
    "# Number of Samples: 14552\n",
    "# Number of Categories: 2 (sain column 187=0/ 1 pathologie column 187=1)\n",
    "# Sampling Frequency: 125Hz\n",
    "# Data Source: Physionet's PTB Diagnostic Database\n",
    "\n",
    "dfnc=pd.read_csv('ptbdb_normal.csv', header=None)#The PTB Diagnostic ECG Database 14552 dont 4046 sains column187=0\n",
    "dfac=pd.read_csv('ptbdb_abnormal.csv', header=None)#The PTB Diagnostic ECG Database 14552 dont 10506 avec pathologie column187=1\n"
   ]
  },
  {
   "cell_type": "markdown",
   "id": "34bed52b",
   "metadata": {},
   "source": [
    "Processus de création d'un ECG à partir de l'enregistrement initial\n",
    "\n",
    "1-Diviser le signal ECG continu en fenêtres de 10 s et sélectionner une fenêtre de 10 s à partir d'un signal ECG.\n",
    "2-Normaliser les valeurs d'amplitude dans la plage comprise entre zéro et un.\n",
    "3-Trouver l'ensemble de tous les maximums locaux basés sur les passages par zéro de la première dérivée.\n",
    "4-Trouver l'ensemble des candidats ECG R-peak en appliquant un seuil de 0,9 sur la valeur normalisée de la\n",
    "maximums.\n",
    "5-Trouver la médiane des intervalles de temps R-R comme valeur nominale\n",
    "période de pulsation de cette fenêtre (T).\n",
    "6-Pour chaque crête R, sélectionner une partie de signal avec la longueur\n",
    "égal à 1,2T.\n",
    "7-Remplissage de chaque partie sélectionnée avec des zéros pour faire sa longueur\n",
    "égale à une longueur fixe prédéfinie.\n"
   ]
  },
  {
   "cell_type": "markdown",
   "id": "3cd58c1d",
   "metadata": {},
   "source": [
    "Learning The MIT-BIH Arrhythmia"
   ]
  },
  {
   "cell_type": "markdown",
   "id": "71bbfeae",
   "metadata": {},
   "source": [
    "Training-Testing PTB Diagnostic"
   ]
  },
  {
   "cell_type": "markdown",
   "id": "9bf24efa",
   "metadata": {},
   "source": [
    "3 phases à étudier :\n",
    "P wave\n",
    "QRS complexe\n",
    "T wave"
   ]
  },
  {
   "cell_type": "markdown",
   "id": "9238a707",
   "metadata": {},
   "source": [
    "Piste Discrete Wavelet Transform (DWT)+SVMouRDF\n",
    "Deep Learning CNN"
   ]
  }
 ],
 "metadata": {
  "kernelspec": {
   "display_name": "Python 3 (ipykernel)",
   "language": "python",
   "name": "python3"
  },
  "language_info": {
   "codemirror_mode": {
    "name": "ipython",
    "version": 3
   },
   "file_extension": ".py",
   "mimetype": "text/x-python",
   "name": "python",
   "nbconvert_exporter": "python",
   "pygments_lexer": "ipython3",
   "version": "3.9.7"
  }
 },
 "nbformat": 4,
 "nbformat_minor": 5
}
