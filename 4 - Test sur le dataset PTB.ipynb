{
 "cells": [
  {
   "cell_type": "markdown",
   "id": "ff27f707",
   "metadata": {},
   "source": [
    "# Test sur le dataset PTB"
   ]
  },
  {
   "cell_type": "code",
   "execution_count": 40,
   "id": "0d143251",
   "metadata": {},
   "outputs": [],
   "source": [
    "from tensorflow import keras\n",
    "import pandas as pd\n",
    "import matplotlib.pyplot as plt\n",
    "from random import choice\n",
    "from sklearn.metrics import classification_report\n",
    "import seaborn as sns\n",
    "import numpy as np\n",
    "from tensorflow.keras.layers import Input, Dense, Dropout, Flatten, Conv1D, MaxPooling1D\n",
    "from tensorflow.keras.models import Model\n",
    "from tensorflow.keras.utils import to_categorical"
   ]
  },
  {
   "cell_type": "code",
   "execution_count": 42,
   "id": "b17548d9",
   "metadata": {},
   "outputs": [],
   "source": [
    "ptbdb_normal = pd.read_csv(\"../Datascientest/Data/ptbdb_normal.csv\", header=None)\n",
    "ptbdb_abnormal = pd.read_csv(\"../Datascientest/Data/ptbdb_abnormal.csv\", header=None)\n",
    "\n",
    "ptbdb = pd.concat([ptbdb_normal, ptbdb_abnormal]).sample(frac=1).reset_index(drop=True)\n",
    "X_ptb = ptbdb.iloc[:,:-1]\n",
    "y_ptb = ptbdb.iloc[:,-1]\n",
    "y_ptb = to_categorical(y_ptb)"
   ]
  },
  {
   "cell_type": "code",
   "execution_count": 43,
   "id": "e5a53d58",
   "metadata": {},
   "outputs": [],
   "source": [
    "CNN_1 = keras.models.load_model(\"./models/CNN_1\")"
   ]
  },
  {
   "cell_type": "code",
   "execution_count": 44,
   "id": "3bb31739",
   "metadata": {},
   "outputs": [],
   "source": [
    "CNN_predict_ptb = CNN_1.predict(X_ptb).argmax(1)"
   ]
  },
  {
   "cell_type": "code",
   "execution_count": 45,
   "id": "0868aab9",
   "metadata": {},
   "outputs": [],
   "source": [
    "CNN_predict_ptb = np.where((CNN_predict_ptb == 2)|(CNN_predict_ptb == 3)|(CNN_predict_ptb == 4), 1, CNN_predict_ptb)"
   ]
  },
  {
   "cell_type": "code",
   "execution_count": 46,
   "id": "b19baafa",
   "metadata": {},
   "outputs": [],
   "source": [
    "CNN_predict_ptb = pd.Series(CNN_predict_ptb)"
   ]
  },
  {
   "cell_type": "code",
   "execution_count": 57,
   "id": "87b58d83",
   "metadata": {},
   "outputs": [],
   "source": [
    "y_ptb = pd.Series(y_ptb.argmax(1))"
   ]
  },
  {
   "cell_type": "code",
   "execution_count": 59,
   "id": "4cf7d7de",
   "metadata": {},
   "outputs": [
    {
     "data": {
      "text/html": [
       "<div>\n",
       "<style scoped>\n",
       "    .dataframe tbody tr th:only-of-type {\n",
       "        vertical-align: middle;\n",
       "    }\n",
       "\n",
       "    .dataframe tbody tr th {\n",
       "        vertical-align: top;\n",
       "    }\n",
       "\n",
       "    .dataframe thead th {\n",
       "        text-align: right;\n",
       "    }\n",
       "</style>\n",
       "<table border=\"1\" class=\"dataframe\">\n",
       "  <thead>\n",
       "    <tr style=\"text-align: right;\">\n",
       "      <th>predict</th>\n",
       "      <th>0</th>\n",
       "      <th>1</th>\n",
       "    </tr>\n",
       "    <tr>\n",
       "      <th>reel</th>\n",
       "      <th></th>\n",
       "      <th></th>\n",
       "    </tr>\n",
       "  </thead>\n",
       "  <tbody>\n",
       "    <tr>\n",
       "      <th>0</th>\n",
       "      <td>3878</td>\n",
       "      <td>168</td>\n",
       "    </tr>\n",
       "    <tr>\n",
       "      <th>1</th>\n",
       "      <td>9098</td>\n",
       "      <td>1408</td>\n",
       "    </tr>\n",
       "  </tbody>\n",
       "</table>\n",
       "</div>"
      ],
      "text/plain": [
       "predict     0     1\n",
       "reel               \n",
       "0        3878   168\n",
       "1        9098  1408"
      ]
     },
     "execution_count": 59,
     "metadata": {},
     "output_type": "execute_result"
    }
   ],
   "source": [
    "pd.crosstab(y_ptb, CNN_predict_ptb, rownames = [\"reel\"], colnames= [\"predict\"]) "
   ]
  },
  {
   "cell_type": "code",
   "execution_count": 60,
   "id": "97b23135",
   "metadata": {},
   "outputs": [
    {
     "name": "stdout",
     "output_type": "stream",
     "text": [
      "              precision    recall  f1-score   support\n",
      "\n",
      "           0       0.30      0.96      0.46      4046\n",
      "           1       0.89      0.13      0.23     10506\n",
      "\n",
      "    accuracy                           0.36     14552\n",
      "   macro avg       0.60      0.55      0.34     14552\n",
      "weighted avg       0.73      0.36      0.29     14552\n",
      "\n"
     ]
    }
   ],
   "source": [
    "print(classification_report(y_ptb, CNN_predict_ptb))"
   ]
  },
  {
   "cell_type": "markdown",
   "id": "0bc07cb4",
   "metadata": {},
   "source": [
    "Lorsqu'on teste le modèle tel quel, nous observons un très mauvais rappel. Regardons des exemples d'ECG bien classés et mal classés afin de voir si on trouve des patterns."
   ]
  },
  {
   "cell_type": "code",
   "execution_count": 63,
   "id": "455fe437",
   "metadata": {},
   "outputs": [],
   "source": [
    "CNN_output_ptb = pd.concat([y_ptb, CNN_predict_ptb], axis=1)\n",
    "CNN_output_ptb.columns = [\"reel\", \"predict_CNN\"]"
   ]
  },
  {
   "cell_type": "code",
   "execution_count": 64,
   "id": "e9ff9d3a",
   "metadata": {},
   "outputs": [
    {
     "data": {
      "image/png": "[encoded data removed]",
      "text/plain": [
       "<Figure size 1152x648 with 9 Axes>"
      ]
     },
     "metadata": {},
     "output_type": "display_data"
    }
   ],
   "source": [
    "fig,ax = plt.subplots(3,3, figsize = (16,9)) \n",
    "sns.set_theme()\n",
    "\n",
    "for i in range(3): \n",
    "    indice_0 = choice(CNN_output_ptb[(CNN_output_ptb[\"reel\"] == 1) & (CNN_output_ptb[\"predict_CNN\"] == 0)].index) \n",
    "    ax[0,i].plot(X_ptb.iloc[indice_0], c=\"red\")\n",
    "    ax[0,i].get_xaxis().set_visible(False)\n",
    "    ax[0,i].get_yaxis().set_visible(False)\n",
    "    ax[0,1].set_title(\"Exemples d'ECG de classe 1 classés en 0 par le CNN\", fontsize = 15)\n",
    "    ax[0,i].text(160, 0.9, indice_0)\n",
    "    \n",
    "for i in range(3): \n",
    "    indice_1 = choice(CNN_output_ptb[(CNN_output_ptb[\"reel\"] == 1) & (CNN_output_ptb[\"predict_CNN\"] == 1)].index) \n",
    "    ax[1,i].plot(X_ptb.iloc[indice_1], c=\"green\")\n",
    "    ax[1,i].get_xaxis().set_visible(False)\n",
    "    ax[1,i].get_yaxis().set_visible(False)\n",
    "    ax[1,1].set_title(\"Exemples d'ECG de classe 1 correctement classés en 1 par le CNN\", fontsize = 15)\n",
    "    ax[1,i].text(160, 0.9, indice_1)\n",
    "    \n",
    "for i in range(3): \n",
    "    indice_2 = choice(CNN_output_ptb[(CNN_output_ptb[\"reel\"] == 0) & (CNN_output_ptb[\"predict_CNN\"] == 0)].index) \n",
    "    ax[2,i].plot(X_ptb.iloc[indice_2], c=\"green\")\n",
    "    ax[2,i].get_xaxis().set_visible(False)\n",
    "    ax[2,i].get_yaxis().set_visible(False)\n",
    "    ax[2,1].set_title(\"Exemples d'ECG de classe 0 correctement classés en 0 par le CNN\", fontsize = 15)\n",
    "    ax[2,i].text(160, 0.9, indice_2)"
   ]
  },
  {
   "cell_type": "markdown",
   "id": "a1621f94",
   "metadata": {},
   "source": [
    "## Transfert Learning à partir du modèle du CNN entrainé sur le dataset MIT"
   ]
  },
  {
   "cell_type": "markdown",
   "id": "49f89707",
   "metadata": {},
   "source": [
    "### Remplacement de la dernière couche de classification"
   ]
  },
  {
   "cell_type": "markdown",
   "id": "5aa16ea5",
   "metadata": {},
   "source": [
    "Nous allons remplacer la dernière couche de classification à 5 neurones par une couche à 2 neurones, puis nous allons entrainer la dernière couche avec une partie du dataset PTB."
   ]
  },
  {
   "cell_type": "code",
   "execution_count": 65,
   "id": "794c4835",
   "metadata": {},
   "outputs": [],
   "source": [
    "for layer in CNN_1.layers:\n",
    "    layer.trainable = False\n",
    "    \n",
    "output = Dense(units = 2, activation=\"softmax\", name=\"output2\" )(CNN_1.layers[-2].output)\n",
    "\n",
    "model2 = Model(inputs = CNN_1.input, outputs = output)\n",
    "model2.compile(loss = \"categorical_crossentropy\", optimizer = \"adam\", metrics = [\"accuracy\"])\n"
   ]
  },
  {
   "cell_type": "code",
   "execution_count": 66,
   "id": "cbfe6582",
   "metadata": {},
   "outputs": [
    {
     "name": "stdout",
     "output_type": "stream",
     "text": [
      "Model: \"model_3\"\n",
      "_________________________________________________________________\n",
      " Layer (type)                Output Shape              Param #   \n",
      "=================================================================\n",
      " Input (InputLayer)          [(None, 187, 1)]          0         \n",
      "                                                                 \n",
      " conv1d (Conv1D)             (None, 183, 32)           192       \n",
      "                                                                 \n",
      " max_pooling1d (MaxPooling1D  (None, 91, 32)           0         \n",
      " )                                                               \n",
      "                                                                 \n",
      " dropout (Dropout)           (None, 91, 32)            0         \n",
      "                                                                 \n",
      " flatten (Flatten)           (None, 2912)              0         \n",
      "                                                                 \n",
      " dense (Dense)               (None, 128)               372864    \n",
      "                                                                 \n",
      " output2 (Dense)             (None, 2)                 258       \n",
      "                                                                 \n",
      "=================================================================\n",
      "Total params: 373,314\n",
      "Trainable params: 258\n",
      "Non-trainable params: 373,056\n",
      "_________________________________________________________________\n"
     ]
    }
   ],
   "source": [
    "model2.summary()"
   ]
  },
  {
   "cell_type": "code",
   "execution_count": 67,
   "id": "5f6111c3",
   "metadata": {},
   "outputs": [],
   "source": [
    "from sklearn.model_selection import train_test_split\n",
    "\n",
    "X_train, X_test, y_train, y_test = train_test_split(X_ptb, y_ptb, test_size = 0.2)"
   ]
  },
  {
   "cell_type": "code",
   "execution_count": 68,
   "id": "1af5a91d",
   "metadata": {},
   "outputs": [],
   "source": [
    "y_train = to_categorical(y_train)\n",
    "y_test = to_categorical(y_test)"
   ]
  },
  {
   "cell_type": "code",
   "execution_count": 69,
   "id": "524cf882",
   "metadata": {},
   "outputs": [
    {
     "name": "stdout",
     "output_type": "stream",
     "text": [
      "Epoch 1/10\n",
      "47/47 [==============================] - 3s 58ms/step - loss: 0.6799 - accuracy: 0.6681 - val_loss: 0.5975 - val_accuracy: 0.7158\n",
      "Epoch 2/10\n",
      "47/47 [==============================] - 1s 29ms/step - loss: 0.5575 - accuracy: 0.7176 - val_loss: 0.5219 - val_accuracy: 0.7398\n",
      "Epoch 3/10\n",
      "47/47 [==============================] - 1s 30ms/step - loss: 0.5025 - accuracy: 0.7401 - val_loss: 0.4839 - val_accuracy: 0.7561\n",
      "Epoch 4/10\n",
      "47/47 [==============================] - 1s 27ms/step - loss: 0.4737 - accuracy: 0.7558 - val_loss: 0.4628 - val_accuracy: 0.7630\n",
      "Epoch 5/10\n",
      "47/47 [==============================] - 1s 29ms/step - loss: 0.4586 - accuracy: 0.7674 - val_loss: 0.4487 - val_accuracy: 0.7707\n",
      "Epoch 6/10\n",
      "47/47 [==============================] - 1s 31ms/step - loss: 0.4476 - accuracy: 0.7794 - val_loss: 0.4398 - val_accuracy: 0.7853\n",
      "Epoch 7/10\n",
      "47/47 [==============================] - 1s 31ms/step - loss: 0.4410 - accuracy: 0.7847 - val_loss: 0.4350 - val_accuracy: 0.7900\n",
      "Epoch 8/10\n",
      "47/47 [==============================] - 2s 33ms/step - loss: 0.4351 - accuracy: 0.7845 - val_loss: 0.4286 - val_accuracy: 0.7952\n",
      "Epoch 9/10\n",
      "47/47 [==============================] - 1s 32ms/step - loss: 0.4319 - accuracy: 0.7911 - val_loss: 0.4245 - val_accuracy: 0.7978\n",
      "Epoch 10/10\n",
      "47/47 [==============================] - 1s 32ms/step - loss: 0.4298 - accuracy: 0.7877 - val_loss: 0.4225 - val_accuracy: 0.7986\n"
     ]
    },
    {
     "data": {
      "text/plain": [
       "<keras.callbacks.History at 0x181ac5e2f70>"
      ]
     },
     "execution_count": 69,
     "metadata": {},
     "output_type": "execute_result"
    }
   ],
   "source": [
    "model2.fit(X_train, y_train, epochs = 10, batch_size = 200, validation_split = 0.2)"
   ]
  },
  {
   "cell_type": "code",
   "execution_count": 70,
   "id": "6cf3a07d",
   "metadata": {},
   "outputs": [],
   "source": [
    "CNN2_predict_ptb = model2.predict(X_test).argmax(1)"
   ]
  },
  {
   "cell_type": "code",
   "execution_count": 71,
   "id": "0c38bad4",
   "metadata": {},
   "outputs": [
    {
     "data": {
      "text/html": [
       "<div>\n",
       "<style scoped>\n",
       "    .dataframe tbody tr th:only-of-type {\n",
       "        vertical-align: middle;\n",
       "    }\n",
       "\n",
       "    .dataframe tbody tr th {\n",
       "        vertical-align: top;\n",
       "    }\n",
       "\n",
       "    .dataframe thead th {\n",
       "        text-align: right;\n",
       "    }\n",
       "</style>\n",
       "<table border=\"1\" class=\"dataframe\">\n",
       "  <thead>\n",
       "    <tr style=\"text-align: right;\">\n",
       "      <th>col_0</th>\n",
       "      <th>0</th>\n",
       "      <th>1</th>\n",
       "    </tr>\n",
       "    <tr>\n",
       "      <th>row_0</th>\n",
       "      <th></th>\n",
       "      <th></th>\n",
       "    </tr>\n",
       "  </thead>\n",
       "  <tbody>\n",
       "    <tr>\n",
       "      <th>0</th>\n",
       "      <td>460</td>\n",
       "      <td>366</td>\n",
       "    </tr>\n",
       "    <tr>\n",
       "      <th>1</th>\n",
       "      <td>196</td>\n",
       "      <td>1889</td>\n",
       "    </tr>\n",
       "  </tbody>\n",
       "</table>\n",
       "</div>"
      ],
      "text/plain": [
       "col_0    0     1\n",
       "row_0           \n",
       "0      460   366\n",
       "1      196  1889"
      ]
     },
     "execution_count": 71,
     "metadata": {},
     "output_type": "execute_result"
    }
   ],
   "source": [
    "pd.crosstab(y_test.argmax(1), CNN2_predict_ptb)"
   ]
  },
  {
   "cell_type": "code",
   "execution_count": 72,
   "id": "f69e5bd9",
   "metadata": {},
   "outputs": [
    {
     "name": "stdout",
     "output_type": "stream",
     "text": [
      "              precision    recall  f1-score   support\n",
      "\n",
      "           0       0.70      0.56      0.62       826\n",
      "           1       0.84      0.91      0.87      2085\n",
      "\n",
      "    accuracy                           0.81      2911\n",
      "   macro avg       0.77      0.73      0.75      2911\n",
      "weighted avg       0.80      0.81      0.80      2911\n",
      "\n"
     ]
    }
   ],
   "source": [
    "print(classification_report(y_test.argmax(1), CNN2_predict_ptb))"
   ]
  },
  {
   "cell_type": "markdown",
   "id": "253f956b",
   "metadata": {},
   "source": [
    "Nous observons déjà de meilleurs résultats en terme de rappel. Par contre on a  un déséquilibre des classes donc procédons à un oversampling SMOTE :"
   ]
  },
  {
   "cell_type": "code",
   "execution_count": 73,
   "id": "bf016c02",
   "metadata": {},
   "outputs": [],
   "source": [
    "from imblearn.over_sampling import SMOTE"
   ]
  },
  {
   "cell_type": "code",
   "execution_count": 74,
   "id": "4123b978",
   "metadata": {},
   "outputs": [],
   "source": [
    "smote = SMOTE()\n",
    "X_sm, y_sm = smote.fit_resample(X_train, y_train)\n",
    "y_sm = to_categorical(y_sm)"
   ]
  },
  {
   "cell_type": "code",
   "execution_count": 75,
   "id": "4a1b4832",
   "metadata": {},
   "outputs": [
    {
     "name": "stdout",
     "output_type": "stream",
     "text": [
      "Epoch 1/10\n",
      "68/68 [==============================] - 2s 34ms/step - loss: 0.4694 - accuracy: 0.7637 - val_loss: 0.6775 - val_accuracy: 0.6533\n",
      "Epoch 2/10\n",
      "68/68 [==============================] - 2s 30ms/step - loss: 0.4616 - accuracy: 0.7697 - val_loss: 0.6345 - val_accuracy: 0.6815\n",
      "Epoch 3/10\n",
      "68/68 [==============================] - 2s 30ms/step - loss: 0.4610 - accuracy: 0.7717 - val_loss: 0.6526 - val_accuracy: 0.6693\n",
      "Epoch 4/10\n",
      "68/68 [==============================] - 2s 29ms/step - loss: 0.4582 - accuracy: 0.7697 - val_loss: 0.6510 - val_accuracy: 0.6717\n",
      "Epoch 5/10\n",
      "68/68 [==============================] - 2s 30ms/step - loss: 0.4564 - accuracy: 0.7688 - val_loss: 0.5613 - val_accuracy: 0.7260\n",
      "Epoch 6/10\n",
      "68/68 [==============================] - 2s 29ms/step - loss: 0.4534 - accuracy: 0.7725 - val_loss: 0.6352 - val_accuracy: 0.6851\n",
      "Epoch 7/10\n",
      "68/68 [==============================] - 2s 29ms/step - loss: 0.4532 - accuracy: 0.7729 - val_loss: 0.6302 - val_accuracy: 0.6895\n",
      "Epoch 8/10\n",
      "68/68 [==============================] - 2s 29ms/step - loss: 0.4537 - accuracy: 0.7741 - val_loss: 0.6242 - val_accuracy: 0.6928\n",
      "Epoch 9/10\n",
      "68/68 [==============================] - 2s 28ms/step - loss: 0.4548 - accuracy: 0.7716 - val_loss: 0.6127 - val_accuracy: 0.7026\n",
      "Epoch 10/10\n",
      "68/68 [==============================] - 2s 30ms/step - loss: 0.4534 - accuracy: 0.7744 - val_loss: 0.5990 - val_accuracy: 0.7103\n"
     ]
    }
   ],
   "source": [
    "model2.fit(X_sm, y_sm, epochs = 10, batch_size = 200, validation_split = 0.2)\n",
    "CNN2_predict_ptb_sm = model2.predict(X_test).argmax(1)"
   ]
  },
  {
   "cell_type": "code",
   "execution_count": 76,
   "id": "0ef3dfe3",
   "metadata": {},
   "outputs": [
    {
     "data": {
      "text/html": [
       "<div>\n",
       "<style scoped>\n",
       "    .dataframe tbody tr th:only-of-type {\n",
       "        vertical-align: middle;\n",
       "    }\n",
       "\n",
       "    .dataframe tbody tr th {\n",
       "        vertical-align: top;\n",
       "    }\n",
       "\n",
       "    .dataframe thead th {\n",
       "        text-align: right;\n",
       "    }\n",
       "</style>\n",
       "<table border=\"1\" class=\"dataframe\">\n",
       "  <thead>\n",
       "    <tr style=\"text-align: right;\">\n",
       "      <th>col_0</th>\n",
       "      <th>0</th>\n",
       "      <th>1</th>\n",
       "    </tr>\n",
       "    <tr>\n",
       "      <th>row_0</th>\n",
       "      <th></th>\n",
       "      <th></th>\n",
       "    </tr>\n",
       "  </thead>\n",
       "  <tbody>\n",
       "    <tr>\n",
       "      <th>0</th>\n",
       "      <td>587</td>\n",
       "      <td>239</td>\n",
       "    </tr>\n",
       "    <tr>\n",
       "      <th>1</th>\n",
       "      <td>346</td>\n",
       "      <td>1739</td>\n",
       "    </tr>\n",
       "  </tbody>\n",
       "</table>\n",
       "</div>"
      ],
      "text/plain": [
       "col_0    0     1\n",
       "row_0           \n",
       "0      587   239\n",
       "1      346  1739"
      ]
     },
     "execution_count": 76,
     "metadata": {},
     "output_type": "execute_result"
    }
   ],
   "source": [
    "pd.crosstab(y_test.argmax(1), CNN2_predict_ptb_sm)"
   ]
  },
  {
   "cell_type": "code",
   "execution_count": 77,
   "id": "1019bf27",
   "metadata": {},
   "outputs": [
    {
     "name": "stdout",
     "output_type": "stream",
     "text": [
      "              precision    recall  f1-score   support\n",
      "\n",
      "           0       0.63      0.71      0.67       826\n",
      "           1       0.88      0.83      0.86      2085\n",
      "\n",
      "    accuracy                           0.80      2911\n",
      "   macro avg       0.75      0.77      0.76      2911\n",
      "weighted avg       0.81      0.80      0.80      2911\n",
      "\n"
     ]
    }
   ],
   "source": [
    "print(classification_report(y_test.argmax(1), CNN2_predict_ptb_sm))"
   ]
  },
  {
   "cell_type": "markdown",
   "id": "8cc1573f",
   "metadata": {},
   "source": [
    "Après rééquilbrage des classes avant entrainement de la dernière couche, on observe de meilleurs résultats. Au lieu de simplement modifier la dernière couche, nous allons remplacer la dernière couche par 2 couches."
   ]
  },
  {
   "cell_type": "markdown",
   "id": "d88bee64",
   "metadata": {},
   "source": [
    "### Remplacement des deux dernières couches de classification"
   ]
  },
  {
   "cell_type": "code",
   "execution_count": 78,
   "id": "f3b0b47d",
   "metadata": {},
   "outputs": [
    {
     "name": "stdout",
     "output_type": "stream",
     "text": [
      "Model: \"model_1\"\n",
      "_________________________________________________________________\n",
      " Layer (type)                Output Shape              Param #   \n",
      "=================================================================\n",
      " Input (InputLayer)          [(None, 187, 1)]          0         \n",
      "                                                                 \n",
      " conv1d (Conv1D)             (None, 183, 32)           192       \n",
      "                                                                 \n",
      " max_pooling1d (MaxPooling1D  (None, 91, 32)           0         \n",
      " )                                                               \n",
      "                                                                 \n",
      " dropout (Dropout)           (None, 91, 32)            0         \n",
      "                                                                 \n",
      " flatten (Flatten)           (None, 2912)              0         \n",
      "                                                                 \n",
      " dense (Dense)               (None, 128)               372864    \n",
      "                                                                 \n",
      " dense_1 (Dense)             (None, 5)                 645       \n",
      "                                                                 \n",
      "=================================================================\n",
      "Total params: 373,701\n",
      "Trainable params: 0\n",
      "Non-trainable params: 373,701\n",
      "_________________________________________________________________\n"
     ]
    }
   ],
   "source": [
    "CNN_1.summary()"
   ]
  },
  {
   "cell_type": "code",
   "execution_count": 83,
   "id": "6dcff8e4",
   "metadata": {},
   "outputs": [],
   "source": [
    "dense_new_1 = Dense(units = 128, activation = \"tanh\", name = \"dense5\", kernel_initializer=\"normal\")(CNN_1.layers[-2].output)\n",
    "output_2 = Dense(units = 2, activation=\"softmax\", name=\"output2\" )(dense_new_1)\n",
    "model3 = Model(inputs = CNN_1.inputs, outputs = output_2)\n",
    "model3.compile(loss = \"categorical_crossentropy\", optimizer = \"adam\", metrics = [\"accuracy\"])"
   ]
  },
  {
   "cell_type": "code",
   "execution_count": 84,
   "id": "d0e4a307",
   "metadata": {},
   "outputs": [
    {
     "name": "stdout",
     "output_type": "stream",
     "text": [
      "Model: \"model_5\"\n",
      "_________________________________________________________________\n",
      " Layer (type)                Output Shape              Param #   \n",
      "=================================================================\n",
      " Input (InputLayer)          [(None, 187, 1)]          0         \n",
      "                                                                 \n",
      " conv1d (Conv1D)             (None, 183, 32)           192       \n",
      "                                                                 \n",
      " max_pooling1d (MaxPooling1D  (None, 91, 32)           0         \n",
      " )                                                               \n",
      "                                                                 \n",
      " dropout (Dropout)           (None, 91, 32)            0         \n",
      "                                                                 \n",
      " flatten (Flatten)           (None, 2912)              0         \n",
      "                                                                 \n",
      " dense (Dense)               (None, 128)               372864    \n",
      "                                                                 \n",
      " dense5 (Dense)              (None, 128)               16512     \n",
      "                                                                 \n",
      " output2 (Dense)             (None, 2)                 258       \n",
      "                                                                 \n",
      "=================================================================\n",
      "Total params: 389,826\n",
      "Trainable params: 16,770\n",
      "Non-trainable params: 373,056\n",
      "_________________________________________________________________\n"
     ]
    }
   ],
   "source": [
    "model3.summary()"
   ]
  },
  {
   "cell_type": "code",
   "execution_count": 85,
   "id": "fb5fb372",
   "metadata": {},
   "outputs": [
    {
     "name": "stdout",
     "output_type": "stream",
     "text": [
      "Epoch 1/10\n",
      "68/68 [==============================] - 3s 32ms/step - loss: 0.4916 - accuracy: 0.7517 - val_loss: 0.6462 - val_accuracy: 0.6762\n",
      "Epoch 2/10\n",
      "68/68 [==============================] - 2s 29ms/step - loss: 0.4459 - accuracy: 0.7790 - val_loss: 0.6126 - val_accuracy: 0.7044\n",
      "Epoch 3/10\n",
      "68/68 [==============================] - 2s 26ms/step - loss: 0.4295 - accuracy: 0.7891 - val_loss: 0.5199 - val_accuracy: 0.7625\n",
      "Epoch 4/10\n",
      "68/68 [==============================] - 2s 26ms/step - loss: 0.4158 - accuracy: 0.7995 - val_loss: 0.5976 - val_accuracy: 0.7159\n",
      "Epoch 5/10\n",
      "68/68 [==============================] - 2s 26ms/step - loss: 0.4039 - accuracy: 0.8073 - val_loss: 0.3951 - val_accuracy: 0.8557\n",
      "Epoch 6/10\n",
      "68/68 [==============================] - 2s 29ms/step - loss: 0.3895 - accuracy: 0.8177 - val_loss: 0.5316 - val_accuracy: 0.7631\n",
      "Epoch 7/10\n",
      "68/68 [==============================] - 2s 29ms/step - loss: 0.3753 - accuracy: 0.8275 - val_loss: 0.6169 - val_accuracy: 0.6958\n",
      "Epoch 8/10\n",
      "68/68 [==============================] - 2s 28ms/step - loss: 0.3620 - accuracy: 0.8358 - val_loss: 0.4797 - val_accuracy: 0.7931\n",
      "Epoch 9/10\n",
      "68/68 [==============================] - 2s 27ms/step - loss: 0.3552 - accuracy: 0.8413 - val_loss: 0.4999 - val_accuracy: 0.7753\n",
      "Epoch 10/10\n",
      "68/68 [==============================] - 2s 27ms/step - loss: 0.3401 - accuracy: 0.8490 - val_loss: 0.4583 - val_accuracy: 0.8157\n"
     ]
    }
   ],
   "source": [
    "model3.fit(X_sm, y_sm, epochs = 10, batch_size = 200, validation_split = 0.2)\n",
    "CNN3_predict_ptb_sm = model3.predict(X_test).argmax(1)"
   ]
  },
  {
   "cell_type": "code",
   "execution_count": 86,
   "id": "2ff30602",
   "metadata": {},
   "outputs": [
    {
     "data": {
      "text/html": [
       "<div>\n",
       "<style scoped>\n",
       "    .dataframe tbody tr th:only-of-type {\n",
       "        vertical-align: middle;\n",
       "    }\n",
       "\n",
       "    .dataframe tbody tr th {\n",
       "        vertical-align: top;\n",
       "    }\n",
       "\n",
       "    .dataframe thead th {\n",
       "        text-align: right;\n",
       "    }\n",
       "</style>\n",
       "<table border=\"1\" class=\"dataframe\">\n",
       "  <thead>\n",
       "    <tr style=\"text-align: right;\">\n",
       "      <th>col_0</th>\n",
       "      <th>0</th>\n",
       "      <th>1</th>\n",
       "    </tr>\n",
       "    <tr>\n",
       "      <th>row_0</th>\n",
       "      <th></th>\n",
       "      <th></th>\n",
       "    </tr>\n",
       "  </thead>\n",
       "  <tbody>\n",
       "    <tr>\n",
       "      <th>0</th>\n",
       "      <td>623</td>\n",
       "      <td>203</td>\n",
       "    </tr>\n",
       "    <tr>\n",
       "      <th>1</th>\n",
       "      <td>207</td>\n",
       "      <td>1878</td>\n",
       "    </tr>\n",
       "  </tbody>\n",
       "</table>\n",
       "</div>"
      ],
      "text/plain": [
       "col_0    0     1\n",
       "row_0           \n",
       "0      623   203\n",
       "1      207  1878"
      ]
     },
     "execution_count": 86,
     "metadata": {},
     "output_type": "execute_result"
    }
   ],
   "source": [
    "pd.crosstab(y_test.argmax(1), CNN3_predict_ptb_sm)"
   ]
  },
  {
   "cell_type": "code",
   "execution_count": 87,
   "id": "af20bd98",
   "metadata": {},
   "outputs": [
    {
     "name": "stdout",
     "output_type": "stream",
     "text": [
      "              precision    recall  f1-score   support\n",
      "\n",
      "           0       0.75      0.75      0.75       826\n",
      "           1       0.90      0.90      0.90      2085\n",
      "\n",
      "    accuracy                           0.86      2911\n",
      "   macro avg       0.83      0.83      0.83      2911\n",
      "weighted avg       0.86      0.86      0.86      2911\n",
      "\n"
     ]
    }
   ],
   "source": [
    "print(classification_report(y_test.argmax(1), CNN3_predict_ptb_sm))"
   ]
  },
  {
   "cell_type": "markdown",
   "id": "0db01b06",
   "metadata": {},
   "source": [
    "Nous observons de meilleurs résultats qu'avec le réseau de neurones précédent."
   ]
  },
  {
   "cell_type": "code",
   "execution_count": null,
   "id": "9cc689f5",
   "metadata": {},
   "outputs": [],
   "source": []
  }
 ],
 "metadata": {
  "kernelspec": {
   "display_name": "Python 3 (ipykernel)",
   "language": "python",
   "name": "python3"
  },
  "language_info": {
   "codemirror_mode": {
    "name": "ipython",
    "version": 3
   },
   "file_extension": ".py",
   "mimetype": "text/x-python",
   "name": "python",
   "nbconvert_exporter": "python",
   "pygments_lexer": "ipython3",
   "version": "3.8.12"
  }
 },
 "nbformat": 4,
 "nbformat_minor": 5
}
