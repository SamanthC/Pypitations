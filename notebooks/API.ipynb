{
 "cells": [
  {
   "cell_type": "code",
   "execution_count": 37,
   "id": "02b3ebcc",
   "metadata": {},
   "outputs": [],
   "source": [
    "import pandas as pd\n",
    "import pickle\n",
    "import numpy as np\n",
    "from tensorflow import keras"
   ]
  },
  {
   "cell_type": "code",
   "execution_count": 4,
   "id": "390acfcd",
   "metadata": {},
   "outputs": [],
   "source": [
    "mit_test = pd.read_csv(\"../data/mitbih_test.csv\", header = None)"
   ]
  },
  {
   "cell_type": "code",
   "execution_count": 32,
   "id": "61270fa8",
   "metadata": {},
   "outputs": [],
   "source": [
    "mit_test_X = mit_test.iloc[:,:-1]\n",
    "mit_test_y = mit_test.iloc[:,-1]"
   ]
  },
  {
   "cell_type": "code",
   "execution_count": 10,
   "id": "a0e97c36",
   "metadata": {},
   "outputs": [],
   "source": [
    "loaded_model = pickle.load(open(\"../models/LR_2.h5\", 'rb'))"
   ]
  },
  {
   "cell_type": "code",
   "execution_count": 30,
   "id": "37e0c6fd",
   "metadata": {},
   "outputs": [
    {
     "data": {
      "text/plain": [
       "array([1., 0., 0., ..., 2., 4., 4.])"
      ]
     },
     "execution_count": 30,
     "metadata": {},
     "output_type": "execute_result"
    }
   ],
   "source": [
    "loaded_model.predict(mit_test_X)"
   ]
  },
  {
   "cell_type": "code",
   "execution_count": 14,
   "id": "4f44497a",
   "metadata": {
    "collapsed": true
   },
   "outputs": [
    {
     "data": {
      "text/plain": [
       "0      0.997429\n",
       "1      0.861183\n",
       "2      0.365039\n",
       "3      0.071979\n",
       "4      0.082262\n",
       "         ...   \n",
       "182    0.000000\n",
       "183    0.000000\n",
       "184    0.000000\n",
       "185    0.000000\n",
       "186    0.000000\n",
       "Name: 10, Length: 187, dtype: float64"
      ]
     },
     "execution_count": 14,
     "metadata": {},
     "output_type": "execute_result"
    }
   ],
   "source": [
    "mit_test_X.iloc[10,:]"
   ]
  },
  {
   "cell_type": "code",
   "execution_count": 28,
   "id": "31679c42",
   "metadata": {},
   "outputs": [
    {
     "data": {
      "text/plain": [
       "array([[10]])"
      ]
     },
     "execution_count": 28,
     "metadata": {},
     "output_type": "execute_result"
    }
   ],
   "source": [
    "np.array([10]).reshape(-1,1)"
   ]
  },
  {
   "cell_type": "code",
   "execution_count": 33,
   "id": "1b9ccbaa",
   "metadata": {},
   "outputs": [
    {
     "data": {
      "text/plain": [
       "0        0.0\n",
       "1        0.0\n",
       "2        0.0\n",
       "3        0.0\n",
       "4        0.0\n",
       "        ... \n",
       "21887    4.0\n",
       "21888    4.0\n",
       "21889    4.0\n",
       "21890    4.0\n",
       "21891    4.0\n",
       "Name: 187, Length: 21892, dtype: float64"
      ]
     },
     "execution_count": 33,
     "metadata": {},
     "output_type": "execute_result"
    }
   ],
   "source": [
    "mit_test_y"
   ]
  },
  {
   "cell_type": "code",
   "execution_count": 35,
   "id": "6adc6569",
   "metadata": {},
   "outputs": [
    {
     "data": {
      "text/plain": [
       "21892"
      ]
     },
     "execution_count": 35,
     "metadata": {},
     "output_type": "execute_result"
    }
   ],
   "source": [
    "len(loaded_model.predict(mit_test_X))"
   ]
  },
  {
   "cell_type": "code",
   "execution_count": 40,
   "id": "8c614bc0",
   "metadata": {},
   "outputs": [],
   "source": [
    "CNN_1 = keras.models.load_model(\"../models/CNN_1.h5\")"
   ]
  },
  {
   "cell_type": "code",
   "execution_count": 42,
   "id": "85f5d36d",
   "metadata": {},
   "outputs": [
    {
     "data": {
      "text/plain": [
       "array([0, 0, 0, ..., 4, 4, 4], dtype=int64)"
      ]
     },
     "execution_count": 42,
     "metadata": {},
     "output_type": "execute_result"
    }
   ],
   "source": [
    "CNN_1.predict(mit_test_X).argmax(1)"
   ]
  },
  {
   "cell_type": "code",
   "execution_count": 43,
   "id": "36722d70",
   "metadata": {},
   "outputs": [],
   "source": [
    "users_bdd = {\n",
    "  \"alice\": \"wonderland\",\n",
    "  \"bob\": \"builder\",\n",
    "  \"clementine\": \"mandarine\"\n",
    "}"
   ]
  },
  {
   "cell_type": "code",
   "execution_count": 44,
   "id": "cc5e97ce",
   "metadata": {},
   "outputs": [
    {
     "data": {
      "text/plain": [
       "'wonderland'"
      ]
     },
     "execution_count": 44,
     "metadata": {},
     "output_type": "execute_result"
    }
   ],
   "source": [
    "users_bdd.get(\"alice\")"
   ]
  },
  {
   "cell_type": "code",
   "execution_count": null,
   "id": "65898444",
   "metadata": {},
   "outputs": [],
   "source": []
  }
 ],
 "metadata": {
  "kernelspec": {
   "display_name": "Python 3 (ipykernel)",
   "language": "python",
   "name": "python3"
  },
  "language_info": {
   "codemirror_mode": {
    "name": "ipython",
    "version": 3
   },
   "file_extension": ".py",
   "mimetype": "text/x-python",
   "name": "python",
   "nbconvert_exporter": "python",
   "pygments_lexer": "ipython3",
   "version": "3.8.12"
  }
 },
 "nbformat": 4,
 "nbformat_minor": 5
}
